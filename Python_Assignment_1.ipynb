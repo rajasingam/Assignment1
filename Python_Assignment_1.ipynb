{
 "cells": [
  {
   "cell_type": "markdown",
   "metadata": {},
   "source": [
    "#                               Session 1 Assignment 1     \n"
   ]
  },
  {
   "cell_type": "code",
   "execution_count": null,
   "metadata": {},
   "outputs": [],
   "source": [
    "#Task 1"
   ]
  },
  {
   "cell_type": "code",
   "execution_count": 1,
   "metadata": {},
   "outputs": [
    {
     "name": "stdout",
     "output_type": "stream",
     "text": [
      "Hello World\n"
     ]
    }
   ],
   "source": [
    "#Question 1. Install Jupyter notebook and run the first program and share the screenshot of the output. Install Jupyter notebook and run the first program and share the screenshot of the output.\n",
    "\n",
    "\n",
    "print (\"Hello World\")"
   ]
  },
  {
   "attachments": {
    "Capture.PNG": {
     "image/png": "[encoded data removed]"
    }
   },
   "cell_type": "markdown",
   "metadata": {},
   "source": [
    "![Capture.PNG](attachment:Capture.PNG)"
   ]
  },
  {
   "cell_type": "code",
   "execution_count": 3,
   "metadata": {},
   "outputs": [
    {
     "name": "stdout",
     "output_type": "stream",
     "text": [
      "Enter the Starting Number : 2000\n",
      "\n",
      "Enter the Ending Number : 3200\n",
      "\n",
      "Numbers that are divisible by 7 and not divisible by 5 are : \n",
      "\n",
      "['2002', '2009', '2016', '2023', '2037', '2044', '2051', '2058', '2072', '2079', '2086', '2093', '2107', '2114', '2121', '2128', '2142', '2149', '2156', '2163', '2177', '2184', '2191', '2198', '2212', '2219', '2226', '2233', '2247', '2254', '2261', '2268', '2282', '2289', '2296', '2303', '2317', '2324', '2331', '2338', '2352', '2359', '2366', '2373', '2387', '2394', '2401', '2408', '2422', '2429', '2436', '2443', '2457', '2464', '2471', '2478', '2492', '2499', '2506', '2513', '2527', '2534', '2541', '2548', '2562', '2569', '2576', '2583', '2597', '2604', '2611', '2618', '2632', '2639', '2646', '2653', '2667', '2674', '2681', '2688', '2702', '2709', '2716', '2723', '2737', '2744', '2751', '2758', '2772', '2779', '2786', '2793', '2807', '2814', '2821', '2828', '2842', '2849', '2856', '2863', '2877', '2884', '2891', '2898', '2912', '2919', '2926', '2933', '2947', '2954', '2961', '2968', '2982', '2989', '2996', '3003', '3017', '3024', '3031', '3038', '3052', '3059', '3066', '3073', '3087', '3094', '3101', '3108', '3122', '3129', '3136', '3143', '3157', '3164', '3171', '3178', '3192', '3199']\n"
     ]
    }
   ],
   "source": [
    "#Question 2. Write a program which will find all such numbers which are divisible by 7 \n",
    "#but are not a multiple of 5, between 2000 and 3200 (both included).\n",
    "#The numbers obtained should be printed in a comma-separated sequence on a single line\n",
    "\n",
    "\n",
    "\n",
    "wd=[]\n",
    "# Getting starting and Ending Number\n",
    "\n",
    "startnum=int(input(\"Enter the Starting Number : \"))         \n",
    "endnum=int(input(\"\\nEnter the Ending Number : \"))             \n",
    "\n",
    "# Checking if Starting number is greater than Ending Number\n",
    "\n",
    "if startnum>endnum:                                         \n",
    "    print(\"\\nStarting number cannot be greater than Ending number\")\n",
    "else:\n",
    "    \n",
    "    for x in range(startnum,endnum):\n",
    "        # Checking if number is divisible by 7 and not divisible by 5\n",
    "        if x%7==0 and x % 5 !=0:                \n",
    "                wd.append(str(x))               \n",
    "        # Printing the numbers that are divisible by 7 and not divisible by 5\n",
    "    print(\"\\nNumbers that are divisible by 7 and not divisible by 5 are : \\n\")\n",
    "    print(wd)                                   "
   ]
  },
  {
   "cell_type": "code",
   "execution_count": 4,
   "metadata": {},
   "outputs": [
    {
     "name": "stdout",
     "output_type": "stream",
     "text": [
      "Enter First Name     : Raja\n",
      "\n",
      "Enter Last Name      : Singam\n",
      "\n",
      "First/Last Name in Reverse Order using list function: \t\tajaR magniS\n"
     ]
    }
   ],
   "source": [
    "#Question 3. Write a Python program to accept the user's first and last name and then getting them printed in\n",
    "#the reverse order with a space between first name and last name.\n",
    "\n",
    "fname= input(\"Enter First Name     : \") # Getting First Name as Input\n",
    "lname= input(\"\\nEnter Last Name      : \")  # Getting Last Name as Input\n",
    "\n",
    "print(\"\\nFirst/Last Name in Reverse Order using list function: \\t\\t\"+fname[::-1]+\" \"+lname[::-1])\n"
   ]
  },
  {
   "cell_type": "code",
   "execution_count": 5,
   "metadata": {},
   "outputs": [
    {
     "name": "stdout",
     "output_type": "stream",
     "text": [
      "Enter Diameter : 12\n",
      "\n",
      "Volume of sphere with Diameter 12 is : 904.7786842338603\n"
     ]
    }
   ],
   "source": [
    "#Question 4. Write a Python program to find the volume of a sphere with diameter 12 cm.\n",
    "#Formula: V=4/3 * π * r 3\n",
    "\n",
    "import math                                                 #Importing Math Library\n",
    "def spherevolume(dia):                                      # Defining a function to calculate sphere volume\n",
    "    r=int(dia)/2                                            # Calculating Radius from Diameter\n",
    "    V=str((4/3) * math.pi* (r**3))                          # Calculating Volume\n",
    "    print(\"\\nVolume of sphere with Diameter \"+dia+\" is : \"+V) # Returning the Calculated Volume\n",
    "\n",
    "Diameter= input(\"Enter Diameter : \")                        # Getting First Name as Input\n",
    "spherevolume(Diameter)\n"
   ]
  },
  {
   "cell_type": "code",
   "execution_count": null,
   "metadata": {},
   "outputs": [],
   "source": [
    "#Task 2"
   ]
  },
  {
   "cell_type": "code",
   "execution_count": 6,
   "metadata": {},
   "outputs": [
    {
     "name": "stdout",
     "output_type": "stream",
     "text": [
      "Enter numbers with comma seperated delimiter -- >   1,2,3,4,5,6\n",
      "\n",
      "Numbers entered in console are : 1,2,3,4,5,6\n",
      "\n",
      "Printing the List Below:\n",
      "['1', '2', '3', '4', '5', '6']\n"
     ]
    }
   ],
   "source": [
    "#Question 1. Write a program which accepts a sequence of comma-separated numbers from console and generate a list\n",
    "\n",
    "rows= input(\"Enter numbers with comma seperated delimiter -- >   \") # Getting comma-seperated numbers from console\n",
    "print(\"\\nNumbers entered in console are : \"+rows)                     # Printing the numbers recieve from console\n",
    "thislist=rows.split(\",\")                                            # Splitting the values by \",\" and loading into list\n",
    "print(\"\\nPrinting the List Below:\")\n",
    "print(thislist)                                                     # Printing the list\n"
   ]
  },
  {
   "cell_type": "code",
   "execution_count": 7,
   "metadata": {},
   "outputs": [
    {
     "name": "stdout",
     "output_type": "stream",
     "text": [
      "Enter no of stars for the pattern : 5\n",
      "\n",
      "* \n",
      "* * \n",
      "* * * \n",
      "* * * * \n",
      "* * * * * \n",
      "* * * * \n",
      "* * * \n",
      "* * \n",
      "* \n"
     ]
    }
   ],
   "source": [
    "#Question 2. Create the below pattern using nested for loop in Python.\n",
    "\n",
    "#* \n",
    "#* * \n",
    "#* * * \n",
    "#* * * * \n",
    "#* * * * * \n",
    "#* * * * \n",
    "#* * * \n",
    "#* * \n",
    "#*\n",
    "\n",
    "rows = input(\"Enter no of stars for the pattern : \")\n",
    "rows=int(rows)\n",
    "\n",
    "for i in range(rows):\n",
    "    for j in range(i):\n",
    "        print ('* ', end=\"\")\n",
    "    print('')\n",
    "\n",
    "for i in range(rows,0,-1):\n",
    "    for j in range(i):\n",
    "        print('* ', end=\"\")\n",
    "    print('')\n"
   ]
  },
  {
   "cell_type": "code",
   "execution_count": 8,
   "metadata": {},
   "outputs": [
    {
     "name": "stdout",
     "output_type": "stream",
     "text": [
      "Enter a word of your choice   AcadGlid\n",
      "\n",
      "Word Entered is : AcadGlid\n",
      "\n",
      "Reverse : dilGdacA\n"
     ]
    }
   ],
   "source": [
    "#Question 3. Write a Python program to reverse a word after accepting the input from the user.\n",
    "rows= input(\"Enter a word of your choice   \") # Getting the word from Console\n",
    "print(\"\\nWord Entered is : \"+rows)\n",
    "print(\"\\nReverse : \"+rows[::-1])                # Printing the word in reverse manner"
   ]
  },
  {
   "cell_type": "code",
   "execution_count": 9,
   "metadata": {},
   "outputs": [
    {
     "name": "stdout",
     "output_type": "stream",
     "text": [
      "WE, THE PEOPLE OF INDIA,\n",
      "\t having solemnly resolved to constitute India into a SOVEREIGN,!\n",
      " \t\tSOCIALIST, SECULAR, DEMOCRATIC REPUBLIC \n",
      "\t\tand to secure to allits citizens\n"
     ]
    }
   ],
   "source": [
    "#Question 4. Write a Python Program to print the given string in the format specified in the sample output\n",
    "\n",
    "#WE, THE PEOPLE OF INDIA, having solemnly resolved to constitute India into a\n",
    "#SOVEREIGN, SOCIALIST, SECULAR, DEMOCRATIC REPUBLIC and to secure to all\n",
    "#its citizens\n",
    "\n",
    "print('''WE, THE PEOPLE OF INDIA,\\n\\t having solemnly resolved to constitute India into a \\\n",
    "SOVEREIGN,!\\n \\t\\tSOCIALIST, SECULAR, DEMOCRATIC REPUBLIC \\n\\t\\tand to secure to all\\\n",
    "its citizens''')"
   ]
  },
  {
   "cell_type": "code",
   "execution_count": null,
   "metadata": {
    "collapsed": true
   },
   "outputs": [],
   "source": []
  }
 ],
 "metadata": {
  "kernelspec": {
   "display_name": "Python 3",
   "language": "python",
   "name": "python3"
  },
  "language_info": {
   "codemirror_mode": {
    "name": "ipython",
    "version": 3
   },
   "file_extension": ".py",
   "mimetype": "text/x-python",
   "name": "python",
   "nbconvert_exporter": "python",
   "pygments_lexer": "ipython3",
   "version": "3.7.1"
  }
 },
 "nbformat": 4,
 "nbformat_minor": 2
}
